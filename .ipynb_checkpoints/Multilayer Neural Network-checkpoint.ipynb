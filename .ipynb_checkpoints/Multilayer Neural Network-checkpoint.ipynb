{
 "cells": [
  {
   "cell_type": "markdown",
   "metadata": {},
   "source": [
    "# Multilayer Neural Network\n",
    "Description: An implementation of multilayer neural network from scratch.\n"
   ]
  },
  {
   "cell_type": "code",
   "execution_count": 3,
   "metadata": {
    "collapsed": true
   },
   "outputs": [],
   "source": [
    "import numpy as np"
   ]
  },
  {
   "cell_type": "code",
   "execution_count": 8,
   "metadata": {
    "collapsed": true
   },
   "outputs": [],
   "source": [
    "class NNLearner(object):\n",
    "    def __init__(self, learning_rate = .001,\\\n",
    "                   num_iterations = 1000000,\\\n",
    "                   num_neurons = [],\\\n",
    "                   batch_size = 32,\\\n",
    "                   verbose = True):\n",
    "        '''\n",
    "        Arguments:\n",
    "        learning_rate (float): the learning rate for parameter update rules\n",
    "        num_iterations (int): the number of iteration to perform gradient descent\n",
    "        num_neuron (list): the number of neurons in each cell including the input layer and \n",
    "                           with a default binary output layer e.g., [8,16,4] has 8 neurons in the \n",
    "                           input layer, 16 and 4 neurons in the first and second input layer\n",
    "                           and a single output neuron.\n",
    "        batch_size (int): the number of examples to train per epoch.  If the number of examples in \n",
    "                          the training set is smaller than the batch number, it will use the entire \n",
    "                          training set per epoch of training.\n",
    "        verbose (boolean): for debugging.\n",
    "\n",
    "        Returns:\n",
    "        None\n",
    "        '''\n",
    "\n",
    "        self.learning_rate = learning_rate\n",
    "        self.num_iterations = num_iterations\n",
    "\n",
    "        num_neurons.append(1) #append 1 here to make number of neuron at output layer be 1.\n",
    "        self.num_neurons = num_neurons\n",
    "        self.num_of_layers = len(self.num_neurons)\n",
    "        self.batch_size = batch_size\n",
    "        self.verbose = verbose\n",
    "        \n",
    "    def addEvidence(self, dataX, dataY):\n",
    "        '''\n",
    "        Arguments:\n",
    "        dataX (ndarray): training set inputs, ndarray of shape (m x n) where m is number of training \n",
    "                         examples and n is number of input features\n",
    "        dataY (ndarray): trianing set labels, ndarray of shape (m x 1) where m is number of training\n",
    "                         examples\n",
    "        Returns:\n",
    "        None\n",
    "        '''\n",
    "        dataX = dataX.T\n",
    "        dataY = dataY.T\n",
    "        num_examples = dataX.shape[1]\n",
    "        if self.batch_size > num_examples:\n",
    "            self.batch_size = num_examples\n",
    "        \n",
    "        #weight initialization\n",
    "        W = []\n",
    "        b = []\n",
    "        for i in range(self.num_of_layers):\n",
    "            if i == 0:\n",
    "                num_inputs = dataX.shape[0]\n",
    "            else:\n",
    "                num_inputs = self.num_neurons[i-1]\n",
    "            ith_layer_weights = (np.random.random((self.num_neurons[i], num_inputs))-.5)\n",
    "            ith_layer_bias = np.zeros((self.num_neurons[i], 1))\n",
    "            #ith_layer_bias = (np.random.random((self.num_neurons[i], 1))-.5)\n",
    "            W.append(ith_layer_weights)\n",
    "            b.append(ith_layer_bias)\n",
    "        "
   ]
  },
  {
   "cell_type": "code",
   "execution_count": null,
   "metadata": {
    "collapsed": true
   },
   "outputs": [],
   "source": []
  }
 ],
 "metadata": {
  "kernelspec": {
   "display_name": "Python 3",
   "language": "python",
   "name": "python3"
  },
  "language_info": {
   "codemirror_mode": {
    "name": "ipython",
    "version": 3
   },
   "file_extension": ".py",
   "mimetype": "text/x-python",
   "name": "python",
   "nbconvert_exporter": "python",
   "pygments_lexer": "ipython3",
   "version": "3.6.6"
  }
 },
 "nbformat": 4,
 "nbformat_minor": 2
}
