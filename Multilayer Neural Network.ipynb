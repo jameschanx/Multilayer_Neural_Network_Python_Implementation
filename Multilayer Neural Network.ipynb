{
 "cells": [
  {
   "cell_type": "markdown",
   "metadata": {},
   "source": [
    "# Multilayer Neural Network\n",
    "Description: An implementation of multilayer neural network from scratch.\n"
   ]
  },
  {
   "cell_type": "code",
   "execution_count": 3,
   "metadata": {},
   "outputs": [],
   "source": [
    "import numpy as np"
   ]
  },
  {
   "cell_type": "code",
   "execution_count": 8,
   "metadata": {},
   "outputs": [],
   "source": [
    "class NNLearner(object):\n",
    "    def __init__(self, learning_rate = .001,\\\n",
    "                   num_iterations = 1000000,\\\n",
    "                   num_neurons = [],\\\n",
    "                   batch_size = 32,\\\n",
    "                   verbose = True):\n",
    "        '''\n",
    "        Arguments:\n",
    "        learning_rate (float): the learning rate for parameter update rules\n",
    "        num_iterations (int): the number of iteration to perform gradient descent\n",
    "        num_neuron (list): the number of neurons in each cell including the input layer and with a default binary output layer\n",
    "                           e.g., [8,16,4] has 8 neurons in the input layer, 16 and 4 neurons in the first and second input layer\n",
    "                           and a single output neuron.\n",
    "        batch_size (int): the number of examples to train per epoch.  If the number of examples in the training set is smaller\n",
    "                          than the batch number, it will use the entire training set per epoch of training.\n",
    "        verbose (boolean): for debugging.\n",
    "\n",
    "        Returns:\n",
    "        None\n",
    "        '''\n",
    "\n",
    "        self.learning_rate = learning_rate\n",
    "        self.num_iterations = num_iterations\n",
    "\n",
    "        num_neurons.append(1) #append 1 here to make number of neuron at output layer be 1.\n",
    "        self.num_neurons = num_neurons\n",
    "        self.num_of_layers = len(self.num_neurons)\n",
    "        self.batch_size = batch_size\n",
    "        self.verbose = verbose"
   ]
  },
  {
   "cell_type": "code",
   "execution_count": null,
   "metadata": {
    "collapsed": true
   },
   "outputs": [],
   "source": []
  }
 ],
 "metadata": {
  "kernelspec": {
   "display_name": "Python 3",
   "language": "python",
   "name": "python3"
  },
  "language_info": {
   "codemirror_mode": {
    "name": "ipython",
    "version": 3
   },
   "file_extension": ".py",
   "mimetype": "text/x-python",
   "name": "python",
   "nbconvert_exporter": "python",
   "pygments_lexer": "ipython3",
   "version": "3.6.6"
  }
 },
 "nbformat": 4,
 "nbformat_minor": 2
}
