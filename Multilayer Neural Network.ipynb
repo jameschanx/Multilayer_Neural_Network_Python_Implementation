{
 "cells": [
  {
   "cell_type": "markdown",
   "metadata": {},
   "source": [
    "# Multilayer Neural Network\n",
    "Description: An implementation of multilayer neural network from scratch.\n"
   ]
  },
  {
   "cell_type": "code",
   "execution_count": 227,
   "metadata": {
    "collapsed": true
   },
   "outputs": [],
   "source": [
    "import numpy as np\n",
    "from nn_utils import *\n",
    "import matplotlib.pyplot as plt\n",
    "%matplotlib inline"
   ]
  },
  {
   "cell_type": "code",
   "execution_count": 228,
   "metadata": {
    "collapsed": true
   },
   "outputs": [],
   "source": [
    "class NNLearner(object):\n",
    "    def __init__(self, learning_rate = .001,\\\n",
    "                   num_iterations = 1000000,\\\n",
    "                   num_neurons = [],\\\n",
    "                   batch_size = 32,\\\n",
    "                   verbose = True):\n",
    "        '''\n",
    "        Arguments:\n",
    "        learning_rate (float): the learning rate for parameter update rules\n",
    "        num_iterations (int): the number of iteration to perform gradient descent\n",
    "        num_neuron (list): the number of neurons in each cell including the input layer and \n",
    "                           with a default binary output layer e.g., [8,16,4] has 8 neurons in the \n",
    "                           input layer, 16 and 4 neurons in the first and second input layer\n",
    "                           and a single output neuron.\n",
    "        batch_size (int): the number of examples to train per epoch.  If the number of examples in \n",
    "                          the training set is smaller than the batch number, it will use the entire \n",
    "                          training set per epoch of training.\n",
    "        verbose (boolean): for debugging.\n",
    "\n",
    "        Returns:\n",
    "        None\n",
    "        '''\n",
    "        self.learning_rate = learning_rate\n",
    "        self.num_iterations = num_iterations\n",
    "        self.num_neurons = num_neurons\n",
    "        self.num_neurons.append(1) #append 1 here to make number of neuron at output layer be 1.\n",
    "        self.num_of_layers = len(self.num_neurons)\n",
    "        self.batch_size = batch_size\n",
    "        self.verbose = verbose\n",
    "\n",
    "    def addEvidence(self, dataX, dataY):\n",
    "        '''\n",
    "        Arguments:\n",
    "        dataX (ndarray): training set inputs, ndarray of shape (m x n) where m is number of training \n",
    "                         examples and n is number of input features\n",
    "        dataY (ndarray): trianing set labels, ndarray of shape (m x 1) where m is number of training\n",
    "                         examples\n",
    "        Returns:\n",
    "        None\n",
    "        '''\n",
    "        print(self.num_neurons)\n",
    "        print(self.num_of_layers)\n",
    "        #transpose the commonly used dataset convention for better vectorization and matrix multiplication\n",
    "        dataX = dataX.T\n",
    "        dataY = dataY.T\n",
    "        num_examples = dataX.shape[1]\n",
    "        \n",
    "        #set batch size\n",
    "        self.batch_size = min(self.batch_size, num_examples)\n",
    "        \n",
    "        #weights initialization.  The two list below will hold ith layer weights.  \n",
    "        self.W = []\n",
    "        self.b = []\n",
    "        for i in range(self.num_of_layers):\n",
    "            if i == 0:\n",
    "                num_inputs = dataX.shape[0]\n",
    "            else:\n",
    "                num_inputs = self.num_neurons[i-1]\n",
    "            ith_layer_weights = (np.random.random((self.num_neurons[i], num_inputs))-.5)\n",
    "            ith_layer_bias = np.zeros((self.num_neurons[i], 1))\n",
    "            #ith_layer_bias = (np.random.random((self.num_neurons[i], 1))-.5) #optional random initialization\n",
    "            self.W.append(ith_layer_weights)\n",
    "            self.b.append(ith_layer_bias)\n",
    "            if self.verbose:\n",
    "                print(self.W)\n",
    "                print(self.b)\n",
    "        "
   ]
  },
  {
   "cell_type": "markdown",
   "metadata": {},
   "source": [
    "### Test Code"
   ]
  },
  {
   "cell_type": "code",
   "execution_count": 229,
   "metadata": {},
   "outputs": [
    {
     "data": {
      "text/plain": [
       "<matplotlib.collections.PathCollection at 0x25b9d25d748>"
      ]
     },
     "execution_count": 229,
     "metadata": {},
     "output_type": "execute_result"
    },
    {
     "data": {
      "image/png": "[encoded data removed]",
      "text/plain": [
       "<Figure size 432x288 with 1 Axes>"
      ]
     },
     "metadata": {},
     "output_type": "display_data"
    }
   ],
   "source": [
    "#create test case - dummy dataset 2D linear separable\n",
    "np.random.seed(101)\n",
    "data = np.random.random((50,3)) * 10\n",
    "dataX = data[:,:-1]\n",
    "dataY = data[:,-1]\n",
    "\n",
    "#assign ground truth weights\n",
    "w1 = 3.4\n",
    "w2 = -4.2\n",
    "b = 2.5\n",
    "z = w1 * dataX[:,0] + w2 * dataX[:,1] + b\n",
    "sig = sigmoid(z)\n",
    "dataY[sig > .5] = 1\n",
    "dataY[sig <= .5] = 0\n",
    "\n",
    "#visualize dummy test case\n",
    "plt.scatter(dataX[:,0], dataX[:,1], c=dataY)"
   ]
  },
  {
   "cell_type": "code",
   "execution_count": 238,
   "metadata": {},
   "outputs": [
    {
     "name": "stdout",
     "output_type": "stream",
     "text": [
      "4\n",
      "2\n",
      "6\n"
     ]
    }
   ],
   "source": [
    "nnl = NNLearner(num_neurons = [1,2,3])\n",
    "nnl2 = NNLearner(num_neurons = [5])\n",
    "nnl3 = NNLearner()\n",
    "# nnl.addEvidence(dataX, dataY)\n",
    "print(nnl.num_of_layers)\n",
    "print(nnl2.num_of_layers)\n",
    "print(nnl3.num_of_layers)\n"
   ]
  },
  {
   "cell_type": "code",
   "execution_count": null,
   "metadata": {
    "collapsed": true
   },
   "outputs": [],
   "source": []
  }
 ],
 "metadata": {
  "kernelspec": {
   "display_name": "Python 3",
   "language": "python",
   "name": "python3"
  },
  "language_info": {
   "codemirror_mode": {
    "name": "ipython",
    "version": 3
   },
   "file_extension": ".py",
   "mimetype": "text/x-python",
   "name": "python",
   "nbconvert_exporter": "python",
   "pygments_lexer": "ipython3",
   "version": "3.6.6"
  }
 },
 "nbformat": 4,
 "nbformat_minor": 2
}
